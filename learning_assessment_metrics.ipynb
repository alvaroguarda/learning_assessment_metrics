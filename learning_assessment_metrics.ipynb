{
  "nbformat": 4,
  "nbformat_minor": 0,
  "metadata": {
    "colab": {
      "provenance": [],
      "include_colab_link": true
    },
    "kernelspec": {
      "name": "python3",
      "display_name": "Python 3"
    },
    "language_info": {
      "name": "python"
    }
  },
  "cells": [
    {
      "cell_type": "markdown",
      "metadata": {
        "id": "view-in-github",
        "colab_type": "text"
      },
      "source": [
        "<a href=\"https://colab.research.google.com/github/alvaroguarda/cats-dogs/blob/main/Metricas_Avalia%C3%A7%C3%A3o_Aprendizado.ipynb\" target=\"_parent\"><img src=\"https://colab.research.google.com/assets/colab-badge.svg\" alt=\"Open In Colab\"/></a>"
      ]
    },
    {
      "cell_type": "code",
      "execution_count": 3,
      "metadata": {
        "id": "OhteUKXWzWnS"
      },
      "outputs": [],
      "source": [
        "import numpy as np\n",
        "import tensorflow as tf\n",
        "from tensorflow.keras.datasets import mnist\n",
        "from tensorflow.keras.models import Sequential\n",
        "from tensorflow.keras.layers import Dense, Flatten\n",
        "from tensorflow.keras.utils import to_categorical"
      ]
    },
    {
      "cell_type": "code",
      "source": [
        "# Load dataset MNIST\n",
        "(x_train, y_train), (x_test, y_test) = mnist.load_data()\n"
      ],
      "metadata": {
        "id": "TN5HVW_Nzk4b",
        "colab": {
          "base_uri": "https://localhost:8080/"
        },
        "outputId": "e4069da9-1a94-4019-de4f-198535341c78"
      },
      "execution_count": 4,
      "outputs": [
        {
          "output_type": "stream",
          "name": "stdout",
          "text": [
            "Downloading data from https://storage.googleapis.com/tensorflow/tf-keras-datasets/mnist.npz\n",
            "\u001b[1m11490434/11490434\u001b[0m \u001b[32m━━━━━━━━━━━━━━━━━━━━\u001b[0m\u001b[37m\u001b[0m \u001b[1m0s\u001b[0m 0us/step\n"
          ]
        }
      ]
    },
    {
      "cell_type": "code",
      "source": [
        "# Normalize dataset (0–255 → 0–1)\n",
        "x_train = x_train / 255.0\n",
        "x_test = x_test / 255.0"
      ],
      "metadata": {
        "id": "xXgCbmqJzm1A"
      },
      "execution_count": 5,
      "outputs": []
    },
    {
      "cell_type": "code",
      "source": [
        "# Convert labels in one-hot encoding\n",
        "y_train = to_categorical(y_train)\n",
        "y_test = to_categorical(y_test)"
      ],
      "metadata": {
        "id": "Cv6TqakZzoL0"
      },
      "execution_count": 6,
      "outputs": []
    },
    {
      "cell_type": "code",
      "source": [
        "# Build the neural network\n",
        "model = Sequential([\n",
        "    Flatten(input_shape=(28, 28)),  # Transform 2D image in a vector\n",
        "    Dense(128, activation='relu'),  # Hidden Layer with 128 neurons\n",
        "    Dense(10, activation='softmax')  # Output Layer with 10 classes (0 to 9)\n",
        "])"
      ],
      "metadata": {
        "colab": {
          "base_uri": "https://localhost:8080/"
        },
        "id": "wqsEqmHRzpiI",
        "outputId": "0efb7952-ab34-4704-e9cd-d837fd7bb80f"
      },
      "execution_count": 7,
      "outputs": [
        {
          "output_type": "stream",
          "name": "stderr",
          "text": [
            "/usr/local/lib/python3.12/dist-packages/keras/src/layers/reshaping/flatten.py:37: UserWarning: Do not pass an `input_shape`/`input_dim` argument to a layer. When using Sequential models, prefer using an `Input(shape)` object as the first layer in the model instead.\n",
            "  super().__init__(**kwargs)\n"
          ]
        }
      ]
    },
    {
      "cell_type": "code",
      "source": [
        "# Compile the model\n",
        "model.compile(optimizer='adam',\n",
        "              loss='categorical_crossentropy',\n",
        "              metrics=['accuracy'])"
      ],
      "metadata": {
        "id": "hqXIVVyUzq6r"
      },
      "execution_count": 8,
      "outputs": []
    },
    {
      "cell_type": "code",
      "source": [
        "# Train the neural network\n",
        "model.fit(x_train, y_train, epochs=5, batch_size=32, validation_split=0.1)"
      ],
      "metadata": {
        "colab": {
          "base_uri": "https://localhost:8080/"
        },
        "id": "6XGBfN7Nzsv8",
        "outputId": "09a0f776-d81f-4f58-b4ea-5d530951cffb"
      },
      "execution_count": 9,
      "outputs": [
        {
          "output_type": "stream",
          "name": "stdout",
          "text": [
            "Epoch 1/5\n",
            "\u001b[1m1688/1688\u001b[0m \u001b[32m━━━━━━━━━━━━━━━━━━━━\u001b[0m\u001b[37m\u001b[0m \u001b[1m4s\u001b[0m 2ms/step - accuracy: 0.8732 - loss: 0.4472 - val_accuracy: 0.9647 - val_loss: 0.1291\n",
            "Epoch 2/5\n",
            "\u001b[1m1688/1688\u001b[0m \u001b[32m━━━━━━━━━━━━━━━━━━━━\u001b[0m\u001b[37m\u001b[0m \u001b[1m6s\u001b[0m 2ms/step - accuracy: 0.9605 - loss: 0.1329 - val_accuracy: 0.9700 - val_loss: 0.1046\n",
            "Epoch 3/5\n",
            "\u001b[1m1688/1688\u001b[0m \u001b[32m━━━━━━━━━━━━━━━━━━━━\u001b[0m\u001b[37m\u001b[0m \u001b[1m3s\u001b[0m 2ms/step - accuracy: 0.9745 - loss: 0.0863 - val_accuracy: 0.9740 - val_loss: 0.0893\n",
            "Epoch 4/5\n",
            "\u001b[1m1688/1688\u001b[0m \u001b[32m━━━━━━━━━━━━━━━━━━━━\u001b[0m\u001b[37m\u001b[0m \u001b[1m3s\u001b[0m 2ms/step - accuracy: 0.9822 - loss: 0.0604 - val_accuracy: 0.9797 - val_loss: 0.0734\n",
            "Epoch 5/5\n",
            "\u001b[1m1688/1688\u001b[0m \u001b[32m━━━━━━━━━━━━━━━━━━━━\u001b[0m\u001b[37m\u001b[0m \u001b[1m4s\u001b[0m 2ms/step - accuracy: 0.9867 - loss: 0.0431 - val_accuracy: 0.9775 - val_loss: 0.0803\n"
          ]
        },
        {
          "output_type": "execute_result",
          "data": {
            "text/plain": [
              "<keras.src.callbacks.history.History at 0x7b6c1f497e30>"
            ]
          },
          "metadata": {},
          "execution_count": 9
        }
      ]
    },
    {
      "cell_type": "code",
      "source": [
        "con_matrix = tf.math.confusion_matrix(tf.argmax(y_test, axis=1), tf.argmax(model.predict(x_test), axis=1))"
      ],
      "metadata": {
        "colab": {
          "base_uri": "https://localhost:8080/"
        },
        "id": "AkB6dlr27tuW",
        "outputId": "e71e0d15-9482-420f-80ca-5afa8a7b6f06"
      },
      "execution_count": 10,
      "outputs": [
        {
          "output_type": "stream",
          "name": "stdout",
          "text": [
            "\u001b[1m313/313\u001b[0m \u001b[32m━━━━━━━━━━━━━━━━━━━━\u001b[0m\u001b[37m\u001b[0m \u001b[1m0s\u001b[0m 816us/step\n"
          ]
        }
      ]
    },
    {
      "cell_type": "code",
      "metadata": {
        "colab": {
          "base_uri": "https://localhost:8080/",
          "height": 718
        },
        "id": "27d520e1",
        "outputId": "cf07c9c8-eb9f-4068-a537-7336b6db8f8c"
      },
      "source": [
        "import matplotlib.pyplot as plt\n",
        "import seaborn as sns\n",
        "\n",
        "# Visualize the confusion matrix\n",
        "plt.figure(figsize=(10, 8))\n",
        "sns.heatmap(con_matrix, annot=True, fmt='d', cmap='Blues')\n",
        "plt.xlabel('Predicted Label')\n",
        "plt.ylabel('True Label')\n",
        "plt.title('Confusion Matrix')\n",
        "plt.show()"
      ],
      "execution_count": 11,
      "outputs": [
        {
          "output_type": "display_data",
          "data": {
            "text/plain": [
              "<Figure size 1000x800 with 2 Axes>"
            ],
            "image/png": "[encoded data removed]"
          },
          "metadata": {}
        }
      ]
    },
    {
      "cell_type": "code",
      "metadata": {
        "colab": {
          "base_uri": "https://localhost:8080/"
        },
        "id": "5ce74f59",
        "outputId": "9d14e8d0-992d-458a-8db8-6a836ef1dada"
      },
      "source": [
        "# Determine the number of classes\n",
        "num_classes = con_matrix.shape[0]\n",
        "\n",
        "# Dictionaries to store metrics for each class\n",
        "true_negatives_per_class = {}\n",
        "specificity_per_class = {}\n",
        "precision_per_class = {}\n",
        "sensitivity_per_class = {}\n",
        "accuracy_per_class = {}\n",
        "fscore_per_class = {}\n",
        "\n",
        "# Iterate through each class\n",
        "for i in range(num_classes):\n",
        "    # Calculate the sum of all elements in the confusion matrix\n",
        "    total_elements = np.sum(con_matrix)\n",
        "\n",
        "    # True Positives for class i are the diagonal elements\n",
        "    true_positives_i = con_matrix[i, i]\n",
        "\n",
        "    # False Positives for class i are the sum of the current column (i) excluding the element at (i,i)\n",
        "    false_positives_i = np.sum(con_matrix[:, i]) - true_positives_i\n",
        "\n",
        "    # False Negatives for class i are the sum of the current row (i) excluding the element at (i,i)\n",
        "    false_negatives_i = np.sum(con_matrix[i, :]) - true_positives_i\n",
        "\n",
        "    # True Negatives for class i are the sum of all elements excluding the row 'i' and the column 'i'.\n",
        "    true_negatives_i = total_elements - true_positives_i - false_positives_i - false_negatives_i\n",
        "\n",
        "\n",
        "    # Specificity for class i = True Negatives / (True Negatives + False Positives)\n",
        "    # Avoid division by zero\n",
        "    specificity_i = true_negatives_i / (true_negatives_i + false_positives_i) if (true_negatives_i + false_positives_i) > 0 else 0\n",
        "\n",
        "    # Precision for class i = True Positives / (True Positives + False Positives)\n",
        "    # Avoid division by zero\n",
        "    precision_i = true_positives_i / (true_positives_i + false_positives_i) if (true_positives_i + false_positives_i) > 0 else 0\n",
        "\n",
        "    # Sensitivity for class i = True Positives / (True Positives + False Negatives)\n",
        "    # Avoid division by zero\n",
        "    sensitivity_i = true_positives_i / (true_positives_i + false_negatives_i) if (true_positives_i + false_negatives_i) > 0 else 0\n",
        "\n",
        "    # Accuracy for class i = (True Positives + True Negatives) / Total Elements\n",
        "    accuracy_i = (true_positives_i + true_negatives_i) / total_elements\n",
        "\n",
        "    # F-score for class i = 2 * (precision_i * sensitivity_i) / (precision_i + sensitivity_i) if (precision_i + sensitivity_i) > 0 else 0\n",
        "    # Corrected F-score calculation\n",
        "    fscore_i = 2 * (precision_i * sensitivity_i) / (precision_i + sensitivity_i) if (precision_i + sensitivity_i) > 0 else 0\n",
        "\n",
        "\n",
        "    # Store the specificity, precision, and recall results\n",
        "    specificity_per_class[f'Class {i}'] = specificity_i\n",
        "    precision_per_class[f'Class {i}'] = precision_i\n",
        "    sensitivity_per_class[f'Class {i}'] = sensitivity_i\n",
        "    accuracy_per_class[f'Class {i}'] = accuracy_i\n",
        "    fscore_per_class[f'Class {i}'] = fscore_i\n",
        "\n",
        "\n",
        "print(\"Metrics for each class\")\n",
        "print(\"-------------------------\")\n",
        "print()\n",
        "\n",
        "print(\"\\nAccuracy per Class:\")\n",
        "for class_label, accuracy_value in accuracy_per_class.items():\n",
        "    print(f'{class_label}: {accuracy_value:.4f}')\n",
        "\n",
        "print(\"\\nSpecificity per Class:\")\n",
        "for class_label, specificity_value in specificity_per_class.items():\n",
        "    print(f'{class_label}: {specificity_value:.4f}')\n",
        "\n",
        "print(\"\\nPrecision per Class:\")\n",
        "for class_label, precision_value in precision_per_class.items():\n",
        "    print(f'{class_label}: {precision_value:.4f}')\n",
        "\n",
        "print(\"\\nSensitivity per Class:\")\n",
        "for class_label, sensitivity_value in sensitivity_per_class.items():\n",
        "    print(f'{class_label}: {sensitivity_value:.4f}')\n",
        "\n",
        "print(\"\\nF-score per Class:\")\n",
        "for class_label, fscore_value in fscore_per_class.items():\n",
        "    print(f'{class_label}: {fscore_value:.4f}')"
      ],
      "execution_count": 15,
      "outputs": [
        {
          "output_type": "stream",
          "name": "stdout",
          "text": [
            "Metrics for each class\n",
            "-------------------------\n",
            "\n",
            "\n",
            "Accuracy per Class:\n",
            "Class 0: 0.9968\n",
            "Class 1: 0.9977\n",
            "Class 2: 0.9932\n",
            "Class 3: 0.9941\n",
            "Class 4: 0.9962\n",
            "Class 5: 0.9951\n",
            "Class 6: 0.9962\n",
            "Class 7: 0.9945\n",
            "Class 8: 0.9945\n",
            "Class 9: 0.9955\n",
            "\n",
            "Specificity per Class:\n",
            "Class 0: 0.9978\n",
            "Class 1: 0.9988\n",
            "Class 2: 0.9942\n",
            "Class 3: 0.9987\n",
            "Class 4: 0.9976\n",
            "Class 5: 0.9962\n",
            "Class 6: 0.9979\n",
            "Class 7: 0.9978\n",
            "Class 8: 0.9976\n",
            "Class 9: 0.9980\n",
            "\n",
            "Precision per Class:\n",
            "Class 0: 0.9798\n",
            "Class 1: 0.9903\n",
            "Class 2: 0.9513\n",
            "Class 3: 0.9877\n",
            "Class 4: 0.9777\n",
            "Class 5: 0.9617\n",
            "Class 6: 0.9802\n",
            "Class 7: 0.9803\n",
            "Class 8: 0.9772\n",
            "Class 9: 0.9820\n",
            "\n",
            "Sensitivity per Class:\n",
            "Class 0: 0.9878\n",
            "Class 1: 0.9894\n",
            "Class 2: 0.9845\n",
            "Class 3: 0.9535\n",
            "Class 4: 0.9837\n",
            "Class 5: 0.9843\n",
            "Class 6: 0.9802\n",
            "Class 7: 0.9660\n",
            "Class 8: 0.9661\n",
            "Class 9: 0.9732\n",
            "\n",
            "F-score per Class:\n",
            "Class 0: 0.9837\n",
            "Class 1: 0.9899\n",
            "Class 2: 0.9676\n",
            "Class 3: 0.9703\n",
            "Class 4: 0.9807\n",
            "Class 5: 0.9729\n",
            "Class 6: 0.9802\n",
            "Class 7: 0.9731\n",
            "Class 8: 0.9716\n",
            "Class 9: 0.9776\n"
          ]
        }
      ]
    }
  ]
}
